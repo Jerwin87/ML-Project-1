{
 "cells": [
  {
   "cell_type": "code",
   "execution_count": 168,
   "metadata": {},
   "outputs": [],
   "source": [
    "import pandas as pd\n",
    "import numpy as np\n",
    "import math\n",
    "import seaborn as sns\n",
    "import matplotlib.pyplot as plt\n",
    "\n",
    "from sklearn.model_selection import train_test_split, GridSearchCV\n",
    "from sklearn.tree import plot_tree\n",
    "from sklearn.metrics import r2_score, mean_squared_error, confusion_matrix, accuracy_score, precision_score, recall_score, multilabel_confusion_matrix\n",
    "from sklearn.ensemble import RandomForestRegressor, ExtraTreesRegressor\n",
    "from sklearn.linear_model import LinearRegression"
   ]
  },
  {
   "cell_type": "code",
   "execution_count": 169,
   "metadata": {},
   "outputs": [],
   "source": [
    "data_raw=pd.read_csv(\"./data/Train.csv\")\n",
    "meta=pd.read_csv(\"./data/airqo_metadata.csv\")"
   ]
  },
  {
   "cell_type": "code",
   "execution_count": 170,
   "metadata": {},
   "outputs": [],
   "source": [
    "from files.preprocessing import preprocessing"
   ]
  },
  {
   "cell_type": "code",
   "execution_count": 171,
   "metadata": {},
   "outputs": [
    {
     "name": "stderr",
     "output_type": "stream",
     "text": [
      "/Users/denniseickhorn/neuefische/ML-Project-1/files/preprocessing.py:52: FutureWarning: In a future version of pandas all arguments of DataFrame.drop except for the argument 'labels' will be keyword-only\n",
      "  data.drop(features,1,inplace=True)\n"
     ]
    }
   ],
   "source": [
    "data = preprocessing(data_raw, use_location=False, only_means=False, drop=['wind_dir'])"
   ]
  },
  {
   "cell_type": "code",
   "execution_count": 172,
   "metadata": {},
   "outputs": [],
   "source": [
    "X = data.drop('target', axis=1)\n",
    "y = data['target']\n",
    "\n",
    "X_train, X_test, y_train, y_test = train_test_split(X, y, test_size=0.20, random_state=42)"
   ]
  },
  {
   "cell_type": "code",
   "execution_count": 173,
   "metadata": {},
   "outputs": [],
   "source": [
    "#param_grid = {'criterion': ['gini', 'entropy'],\n",
    "#                'max_depth': [None] + list(np.linspace(2,32,10).astype(int)),\n",
    "#                'min_samples_split': np.linspace(2,22,10).astype(int),\n",
    "#                'min_samples_leaf': np.linspace(2,22,10).astype(int)\n",
    "#}\n",
    "#param_grid = {'depth': [4,5,6,7,8,9, 10],\n",
    "#                'learning_rate': [0.01,0.02,0.03,0.04],\n",
    "#                'iterations': [10, 20,30,40,50,60,70,80,90, 100]\n",
    "#                 }\n",
    "param_grid = {\n",
    "    'n_estimators': [50,100,200,300,400,500],\n",
    "    'max_depth': [40,50,60],\n",
    "    'max_features': ['sqrt','log2']\n",
    "}\n",
    "\n",
    "\n",
    "gs = GridSearchCV(ExtraTreesRegressor(random_state=42), verbose=2, param_grid=param_grid, cv=5, n_jobs=-1)\n",
    "#gs.fit(X_train, y_train)\n",
    "#gs.best_params_"
   ]
  },
  {
   "cell_type": "code",
   "execution_count": 174,
   "metadata": {},
   "outputs": [
    {
     "name": "stdout",
     "output_type": "stream",
     "text": [
      "24.466012288242297\n",
      "6.035853589337779\n"
     ]
    }
   ],
   "source": [
    "#reg = LinearRegression()\n",
    "#reg = DecisionTreeRegressor()\n",
    "#reg = RandomForestRegressor()\n",
    "reg = ExtraTreesRegressor(n_estimators=400, max_depth=50, max_features= 'log2', random_state=42)\n",
    "#reg = gs.best_estimator_\n",
    "#reg = XGBRegressor()\n",
    "reg.fit(X_train, y_train)\n",
    "y_pred_reg = reg.predict(X_test)\n",
    "print(mean_squared_error(y_test, y_pred_reg, squared=False))\n",
    "y_pred_reg_train = reg.predict(X_train)\n",
    "print(mean_squared_error(y_train, y_pred_reg_train, squared=False))"
   ]
  },
  {
   "cell_type": "code",
   "execution_count": 183,
   "metadata": {},
   "outputs": [
    {
     "data": {
      "text/plain": [
       "Text(0.5, 0, 'datapoint')"
      ]
     },
     "execution_count": 183,
     "metadata": {},
     "output_type": "execute_result"
    },
    {
     "data": {
      "image/png": "[encoded data removed]",
      "text/plain": [
       "<Figure size 432x288 with 1 Axes>"
      ]
     },
     "metadata": {
      "needs_background": "light"
     },
     "output_type": "display_data"
    }
   ],
   "source": [
    "plt.scatter(x=range(len(y_test)),y= np.abs(y_test-y_pred_reg), s=5.0)\n",
    "plt.ylim([0,310])\n",
    "plt.ylabel('absolute error')\n",
    "plt.xlabel('datapoint')"
   ]
  },
  {
   "cell_type": "code",
   "execution_count": 178,
   "metadata": {},
   "outputs": [
    {
     "data": {
      "text/plain": [
       "[array(['min_precip', 0.0], dtype=object),\n",
       " array(['median_precip', 0.0], dtype=object),\n",
       " array(['last_precip', 0.00972698190085877], dtype=object),\n",
       " array(['max_precip', 0.014099869204708187], dtype=object),\n",
       " array(['min_rel_humidity', 0.0141710378998054], dtype=object),\n",
       " array(['ptp_precip', 0.0142066338343505], dtype=object),\n",
       " array(['max_temp', 0.014557846365048603], dtype=object),\n",
       " array(['ptp_temp', 0.014759447327494284], dtype=object),\n",
       " array(['ptp_rel_humidity', 0.015322501891334748], dtype=object),\n",
       " array(['ptp_atmos_press', 0.01608140904234258], dtype=object),\n",
       " array(['min_wind_spd', 0.0163518247710736], dtype=object),\n",
       " array(['max_rel_humidity', 0.017613579185486047], dtype=object),\n",
       " array(['mean_last_day_precip', 0.018384521345417598], dtype=object),\n",
       " array(['min_temp', 0.01934782598640471], dtype=object),\n",
       " array(['var_precip', 0.021799438430470296], dtype=object),\n",
       " array(['mean_precip', 0.022008342286882896], dtype=object),\n",
       " array(['max_wind_spd', 0.0237538343180718], dtype=object),\n",
       " array(['median_temp', 0.02414138972413959], dtype=object),\n",
       " array(['ptp_wind_spd', 0.02498826754847656], dtype=object),\n",
       " array(['median_rel_humidity', 0.025908637660501384], dtype=object),\n",
       " array(['max_atmos_press', 0.027427568205567687], dtype=object),\n",
       " array(['mean_last_day_temp', 0.02838809066686141], dtype=object),\n",
       " array(['mean_last_day_rel_humidity', 0.029238371601842707], dtype=object),\n",
       " array(['var_temp', 0.029268899165420324], dtype=object),\n",
       " array(['min_atmos_press', 0.02927960357200749], dtype=object),\n",
       " array(['var_atmos_press', 0.029575066141029747], dtype=object),\n",
       " array(['mean_rel_humidity', 0.030891501278916874], dtype=object),\n",
       " array(['var_rel_humidity', 0.03164304053534642], dtype=object),\n",
       " array(['mean_temp', 0.032092339284747695], dtype=object),\n",
       " array(['var_wind_spd', 0.03251892984460764], dtype=object),\n",
       " array(['mean_last_day_wind_spd', 0.03280077457347588], dtype=object),\n",
       " array(['last_rel_humidity', 0.03320182674811262], dtype=object),\n",
       " array(['median_wind_spd', 0.03433454754788305], dtype=object),\n",
       " array(['mean_wind_spd', 0.035932844026889496], dtype=object),\n",
       " array(['last_wind_spd', 0.03653917708464081], dtype=object),\n",
       " array(['median_atmos_press', 0.03752442894386882], dtype=object),\n",
       " array(['last_atmos_press', 0.03922556449349701], dtype=object),\n",
       " array(['last_temp', 0.039321961030739885], dtype=object),\n",
       " array(['mean_last_day_atmos_press', 0.04096668271312483], dtype=object),\n",
       " array(['mean_atmos_press', 0.0426053938185521], dtype=object)]"
      ]
     },
     "execution_count": 178,
     "metadata": {},
     "output_type": "execute_result"
    }
   ],
   "source": [
    "sorted(np.array([X_train.columns, reg.feature_importances_]).T, key= lambda t: t[1])"
   ]
  },
  {
   "cell_type": "code",
   "execution_count": 179,
   "metadata": {},
   "outputs": [],
   "source": [
    "y_test_MC = pd.cut(y_test, bins=[0,12,35,55,150,250, float('inf')])\n",
    "y_pred_reg_MC = pd.cut(y_pred_reg, bins=[0,12,35,55,150,250, float('inf')])"
   ]
  },
  {
   "cell_type": "code",
   "execution_count": 180,
   "metadata": {},
   "outputs": [
    {
     "ename": "ValueError",
     "evalue": "unknown is not supported",
     "output_type": "error",
     "traceback": [
      "\u001b[0;31m---------------------------------------------------------------------------\u001b[0m",
      "\u001b[0;31mValueError\u001b[0m                                Traceback (most recent call last)",
      "\u001b[1;32m/Users/denniseickhorn/neuefische/ML-Project-1/Model.ipynb Zelle 13\u001b[0m in \u001b[0;36m<cell line: 1>\u001b[0;34m()\u001b[0m\n\u001b[0;32m----> <a href='vscode-notebook-cell:/Users/denniseickhorn/neuefische/ML-Project-1/Model.ipynb#ch0000016?line=0'>1</a>\u001b[0m confusion_matrix(y_test_MC\u001b[39m.\u001b[39;49mvalues, y_pred_reg_MC)\n",
      "File \u001b[0;32m~/neuefische/ML-Project-1/.venv/lib/python3.9/site-packages/sklearn/metrics/_classification.py:307\u001b[0m, in \u001b[0;36mconfusion_matrix\u001b[0;34m(y_true, y_pred, labels, sample_weight, normalize)\u001b[0m\n\u001b[1;32m    222\u001b[0m \u001b[39mdef\u001b[39;00m \u001b[39mconfusion_matrix\u001b[39m(\n\u001b[1;32m    223\u001b[0m     y_true, y_pred, \u001b[39m*\u001b[39m, labels\u001b[39m=\u001b[39m\u001b[39mNone\u001b[39;00m, sample_weight\u001b[39m=\u001b[39m\u001b[39mNone\u001b[39;00m, normalize\u001b[39m=\u001b[39m\u001b[39mNone\u001b[39;00m\n\u001b[1;32m    224\u001b[0m ):\n\u001b[1;32m    225\u001b[0m     \u001b[39m\"\"\"Compute confusion matrix to evaluate the accuracy of a classification.\u001b[39;00m\n\u001b[1;32m    226\u001b[0m \n\u001b[1;32m    227\u001b[0m \u001b[39m    By definition a confusion matrix :math:`C` is such that :math:`C_{i, j}`\u001b[39;00m\n\u001b[0;32m   (...)\u001b[0m\n\u001b[1;32m    305\u001b[0m \u001b[39m    (0, 2, 1, 1)\u001b[39;00m\n\u001b[1;32m    306\u001b[0m \u001b[39m    \"\"\"\u001b[39;00m\n\u001b[0;32m--> 307\u001b[0m     y_type, y_true, y_pred \u001b[39m=\u001b[39m _check_targets(y_true, y_pred)\n\u001b[1;32m    308\u001b[0m     \u001b[39mif\u001b[39;00m y_type \u001b[39mnot\u001b[39;00m \u001b[39min\u001b[39;00m (\u001b[39m\"\u001b[39m\u001b[39mbinary\u001b[39m\u001b[39m\"\u001b[39m, \u001b[39m\"\u001b[39m\u001b[39mmulticlass\u001b[39m\u001b[39m\"\u001b[39m):\n\u001b[1;32m    309\u001b[0m         \u001b[39mraise\u001b[39;00m \u001b[39mValueError\u001b[39;00m(\u001b[39m\"\u001b[39m\u001b[39m%s\u001b[39;00m\u001b[39m is not supported\u001b[39m\u001b[39m\"\u001b[39m \u001b[39m%\u001b[39m y_type)\n",
      "File \u001b[0;32m~/neuefische/ML-Project-1/.venv/lib/python3.9/site-packages/sklearn/metrics/_classification.py:104\u001b[0m, in \u001b[0;36m_check_targets\u001b[0;34m(y_true, y_pred)\u001b[0m\n\u001b[1;32m    102\u001b[0m \u001b[39m# No metrics support \"multiclass-multioutput\" format\u001b[39;00m\n\u001b[1;32m    103\u001b[0m \u001b[39mif\u001b[39;00m y_type \u001b[39mnot\u001b[39;00m \u001b[39min\u001b[39;00m [\u001b[39m\"\u001b[39m\u001b[39mbinary\u001b[39m\u001b[39m\"\u001b[39m, \u001b[39m\"\u001b[39m\u001b[39mmulticlass\u001b[39m\u001b[39m\"\u001b[39m, \u001b[39m\"\u001b[39m\u001b[39mmultilabel-indicator\u001b[39m\u001b[39m\"\u001b[39m]:\n\u001b[0;32m--> 104\u001b[0m     \u001b[39mraise\u001b[39;00m \u001b[39mValueError\u001b[39;00m(\u001b[39m\"\u001b[39m\u001b[39m{0}\u001b[39;00m\u001b[39m is not supported\u001b[39m\u001b[39m\"\u001b[39m\u001b[39m.\u001b[39mformat(y_type))\n\u001b[1;32m    106\u001b[0m \u001b[39mif\u001b[39;00m y_type \u001b[39min\u001b[39;00m [\u001b[39m\"\u001b[39m\u001b[39mbinary\u001b[39m\u001b[39m\"\u001b[39m, \u001b[39m\"\u001b[39m\u001b[39mmulticlass\u001b[39m\u001b[39m\"\u001b[39m]:\n\u001b[1;32m    107\u001b[0m     y_true \u001b[39m=\u001b[39m column_or_1d(y_true)\n",
      "\u001b[0;31mValueError\u001b[0m: unknown is not supported"
     ]
    }
   ],
   "source": [
    "confusion_matrix(y_test_MC.values, y_pred_reg_MC)"
   ]
  },
  {
   "cell_type": "code",
   "execution_count": null,
   "metadata": {},
   "outputs": [
    {
     "data": {
      "text/plain": [
       "[2, 3, 2, 2, 3, ..., 2, 3, 1, 1, 3]\n",
       "Length: 3108\n",
       "Categories (6, int64): [0 < 1 < 2 < 3 < 4 < 5]"
      ]
     },
     "execution_count": 42,
     "metadata": {},
     "output_type": "execute_result"
    }
   ],
   "source": [
    "y_test_MC.values.rename_categories([0,1,2,3,4,5])"
   ]
  },
  {
   "cell_type": "code",
   "execution_count": null,
   "metadata": {},
   "outputs": [
    {
     "data": {
      "text/plain": [
       "[(55.0, 150.0], (55.0, 150.0], (55.0, 150.0], (55.0, 150.0], (55.0, 150.0], ..., (55.0, 150.0], (55.0, 150.0], (55.0, 150.0], (35.0, 55.0], (55.0, 150.0]]\n",
       "Length: 3108\n",
       "Categories (6, interval[float64, right]): [(0.0, 12.0] < (12.0, 35.0] < (35.0, 55.0] < (55.0, 150.0] < (150.0, 250.0] < (250.0, inf]]"
      ]
     },
     "execution_count": 31,
     "metadata": {},
     "output_type": "execute_result"
    }
   ],
   "source": [
    "y_pred_reg_MC"
   ]
  },
  {
   "cell_type": "code",
   "execution_count": null,
   "metadata": {},
   "outputs": [],
   "source": []
  }
 ],
 "metadata": {
  "kernelspec": {
   "display_name": "Python 3.9.8 ('.venv': venv)",
   "language": "python",
   "name": "python3"
  },
  "language_info": {
   "codemirror_mode": {
    "name": "ipython",
    "version": 3
   },
   "file_extension": ".py",
   "mimetype": "text/x-python",
   "name": "python",
   "nbconvert_exporter": "python",
   "pygments_lexer": "ipython3",
   "version": "3.9.8"
  },
  "vscode": {
   "interpreter": {
    "hash": "a51162323a5dd8886ba2d77c64b26031bc3d2b8d69434f89012130b6fbb66ac7"
   }
  }
 },
 "nbformat": 4,
 "nbformat_minor": 4
}
