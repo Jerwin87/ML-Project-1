{
 "cells": [
  {
   "cell_type": "code",
   "execution_count": 1,
   "metadata": {},
   "outputs": [],
   "source": [
    "import pandas as pd\n",
    "import numpy as np\n",
    "import math\n",
    "import seaborn as sns\n",
    "import matplotlib.pyplot as plt\n",
    "\n",
    "from sklearn.model_selection import train_test_split, GridSearchCV\n",
    "from sklearn.linear_model import LinearRegression, LogisticRegression\n",
    "from sklearn.tree import DecisionTreeRegressor, DecisionTreeClassifier, plot_tree\n",
    "from sklearn.metrics import r2_score, mean_squared_error, confusion_matrix, accuracy_score\n",
    "from sklearn.ensemble import RandomForestClassifier, RandomForestRegressor\n",
    "from xgboost import XGBRegressor"
   ]
  },
  {
   "cell_type": "code",
   "execution_count": 2,
   "metadata": {},
   "outputs": [],
   "source": [
    "data_raw=pd.read_csv(\"./data/Train.csv\")\n",
    "meta=pd.read_csv(\"./data/airqo_metadata.csv\")"
   ]
  },
  {
   "cell_type": "code",
   "execution_count": 3,
   "metadata": {},
   "outputs": [],
   "source": [
    "from files.preprocessing import *"
   ]
  },
  {
   "cell_type": "code",
   "execution_count": 4,
   "metadata": {},
   "outputs": [
    {
     "name": "stderr",
     "output_type": "stream",
     "text": [
      "/Users/denniseickhorn/neuefische/ML-Project-1/files/preprocessing.py:56: FutureWarning: In a future version of pandas all arguments of DataFrame.drop except for the argument 'labels' will be keyword-only\n",
      "  data.drop(features,1,inplace=True)\n"
     ]
    }
   ],
   "source": [
    "data = preprocessing_bl(data_raw, meta)"
   ]
  },
  {
   "cell_type": "code",
   "execution_count": 5,
   "metadata": {},
   "outputs": [],
   "source": [
    "X = data.drop('target', axis=1)\n",
    "#X = data[['mean_wind_spd']]\n",
    "y = data['target']\n",
    "\n",
    "X_train, X_test, y_train, y_test = train_test_split(X, y, test_size=0.20, random_state=42)"
   ]
  },
  {
   "cell_type": "code",
   "execution_count": 6,
   "metadata": {},
   "outputs": [
    {
     "data": {
      "text/plain": [
       "29.606018328551745"
      ]
     },
     "execution_count": 6,
     "metadata": {},
     "output_type": "execute_result"
    }
   ],
   "source": [
    "#reg = LinearRegression()\n",
    "#reg = DecisionTreeRegressor()\n",
    "#reg = RandomForestRegressor(n_estimators=100)\n",
    "reg = XGBRegressor()\n",
    "reg.fit(X_train, y_train)\n",
    "y_pred_reg = reg.predict(X_test)\n",
    "mean_squared_error(y_test, y_pred_reg, squared=False)"
   ]
  },
  {
   "cell_type": "code",
   "execution_count": 7,
   "metadata": {},
   "outputs": [
    {
     "data": {
      "text/plain": [
       "<matplotlib.collections.PathCollection at 0x142962580>"
      ]
     },
     "execution_count": 7,
     "metadata": {},
     "output_type": "execute_result"
    },
    {
     "data": {
      "image/png": "[encoded data removed]",
      "text/plain": [
       "<Figure size 432x288 with 1 Axes>"
      ]
     },
     "metadata": {
      "needs_background": "light"
     },
     "output_type": "display_data"
    }
   ],
   "source": [
    "plt.scatter(x=range(len(y_test)),y= y_test-y_pred_reg)"
   ]
  },
  {
   "cell_type": "code",
   "execution_count": 8,
   "metadata": {},
   "outputs": [],
   "source": [
    "data['target'] = (data['target']>55).astype(int)\n",
    "X = data.drop('target', axis=1)\n",
    "#X = data[['mean_wind_spd']]\n",
    "y = data['target']\n",
    "\n",
    "X_train, X_test, y_train, y_test = train_test_split(X, y, test_size=0.20, random_state=42)"
   ]
  },
  {
   "cell_type": "code",
   "execution_count": 9,
   "metadata": {},
   "outputs": [
    {
     "name": "stdout",
     "output_type": "stream",
     "text": [
      "[[1782  181]\n",
      " [ 863  282]]\n",
      "0.6640926640926641\n",
      "0.659721663582978\n"
     ]
    },
    {
     "name": "stderr",
     "output_type": "stream",
     "text": [
      "/Users/denniseickhorn/neuefische/ML-Project-1/.venv/lib/python3.9/site-packages/sklearn/linear_model/_logistic.py:814: ConvergenceWarning: lbfgs failed to converge (status=1):\n",
      "STOP: TOTAL NO. of ITERATIONS REACHED LIMIT.\n",
      "\n",
      "Increase the number of iterations (max_iter) or scale the data as shown in:\n",
      "    https://scikit-learn.org/stable/modules/preprocessing.html\n",
      "Please also refer to the documentation for alternative solver options:\n",
      "    https://scikit-learn.org/stable/modules/linear_model.html#logistic-regression\n",
      "  n_iter_i = _check_optimize_result(\n"
     ]
    }
   ],
   "source": [
    "logreg = LogisticRegression()\n",
    "logreg.fit(X_train, y_train)\n",
    "y_pred_logreg = logreg.predict(X_test)\n",
    "print(confusion_matrix(y_test, y_pred_logreg))\n",
    "print(accuracy_score(y_test, y_pred_logreg))\n",
    "y_pred_logreg_train = logreg.predict(X_train)\n",
    "print(accuracy_score(y_train, y_pred_logreg_train))"
   ]
  },
  {
   "cell_type": "code",
   "execution_count": 10,
   "metadata": {},
   "outputs": [
    {
     "name": "stdout",
     "output_type": "stream",
     "text": [
      "[[1640  323]\n",
      " [ 297  848]]\n",
      "0.8005148005148005\n",
      "0.9917142627302711\n"
     ]
    }
   ],
   "source": [
    "treeC = DecisionTreeClassifier()\n",
    "treeC.fit(X_train, y_train)\n",
    "y_pred_treeC = treeC.predict(X_test)\n",
    "print(confusion_matrix(y_test, y_pred_treeC))\n",
    "print(accuracy_score(y_test, y_pred_treeC))\n",
    "y_pred_treeC_train = treeC.predict(X_train)\n",
    "print(accuracy_score(y_train, y_pred_treeC_train))"
   ]
  },
  {
   "cell_type": "code",
   "execution_count": 11,
   "metadata": {},
   "outputs": [
    {
     "data": {
      "text/plain": [
       "[array(['min_precip', 0.0], dtype=object),\n",
       " array(['median_precip', 0.0], dtype=object),\n",
       " array(['loc_altitude', 0.0], dtype=object),\n",
       " array(['km2', 0.0], dtype=object),\n",
       " array(['aspect', 0.0], dtype=object),\n",
       " array(['dist_trunk', 0.0], dtype=object),\n",
       " array(['dist_primary', 0.0], dtype=object),\n",
       " array(['dist_tertiary', 0.0], dtype=object),\n",
       " array(['dist_unclassified', 0.0], dtype=object),\n",
       " array(['dist_residential', 0.0], dtype=object),\n",
       " array(['popn', 0.0], dtype=object),\n",
       " array(['hh', 0.0], dtype=object),\n",
       " array(['hh_cook_charcoal', 0.0], dtype=object),\n",
       " array(['hh_cook_firewood', 0.0], dtype=object),\n",
       " array(['hh_burn_waste', 0.0], dtype=object),\n",
       " array(['ptp_precip', 0.0002789687483610421], dtype=object),\n",
       " array(['max_precip', 0.0004237290108351891], dtype=object),\n",
       " array(['min_atmos_press', 0.0018382848464847908], dtype=object),\n",
       " array(['max_wind_spd', 0.0019101443780883583], dtype=object),\n",
       " array(['min_rel_humidity', 0.0031993730400485185], dtype=object),\n",
       " array(['max_wind_dir', 0.005820447487131569], dtype=object),\n",
       " array(['ptp_rel_humidity', 0.006990511197661531], dtype=object),\n",
       " array(['ptp_wind_dir', 0.007010163166665161], dtype=object),\n",
       " array(['dist_secondary', 0.007546572213842697], dtype=object),\n",
       " array(['max_temp', 0.00896583870067864], dtype=object),\n",
       " array(['ptp_atmos_press', 0.009582112041051293], dtype=object),\n",
       " array(['max_rel_humidity', 0.010146113689423504], dtype=object),\n",
       " array(['min_wind_dir', 0.010680708813415898], dtype=object),\n",
       " array(['var_precip', 0.010962524127040648], dtype=object),\n",
       " array(['ptp_temp', 0.012644634923561719], dtype=object),\n",
       " array(['min_wind_spd', 0.013285764012657469], dtype=object),\n",
       " array(['mean_precip', 0.014095656895702953], dtype=object),\n",
       " array(['max_atmos_press', 0.014198289843191467], dtype=object),\n",
       " array(['median_atmos_press', 0.017026659440166313], dtype=object),\n",
       " array(['median_temp', 0.023774660882552957], dtype=object),\n",
       " array(['std_precip', 0.02619767090771551], dtype=object),\n",
       " array(['std_wind_spd', 0.026223260719182517], dtype=object),\n",
       " array(['ptp_wind_spd', 0.027170653996855705], dtype=object),\n",
       " array(['std_atmos_press', 0.027411339916199953], dtype=object),\n",
       " array(['median_rel_humidity', 0.028488956220356222], dtype=object),\n",
       " array(['std_rel_humidity', 0.028564694308490467], dtype=object),\n",
       " array(['var_temp', 0.028925095576160464], dtype=object),\n",
       " array(['std_wind_dir', 0.02984523499553857], dtype=object),\n",
       " array(['var_wind_spd', 0.030565955943281], dtype=object),\n",
       " array(['median_wind_dir', 0.03338427049860213], dtype=object),\n",
       " array(['mean_atmos_press', 0.03390763514168638], dtype=object),\n",
       " array(['mean_rel_humidity', 0.034565080593362794], dtype=object),\n",
       " array(['var_wind_dir', 0.03514796794661061], dtype=object),\n",
       " array(['std_temp', 0.035346563748281094], dtype=object),\n",
       " array(['var_rel_humidity', 0.03652855505718945], dtype=object),\n",
       " array(['min_temp', 0.03851756167137902], dtype=object),\n",
       " array(['var_atmos_press', 0.04150082428505859], dtype=object),\n",
       " array(['mean_temp', 0.04834958992830033], dtype=object),\n",
       " array(['mean_wind_spd', 0.05391652464636102], dtype=object),\n",
       " array(['mean_wind_dir', 0.08570201634565386], dtype=object),\n",
       " array(['median_wind_spd', 0.0893593900951726], dtype=object)]"
      ]
     },
     "execution_count": 11,
     "metadata": {},
     "output_type": "execute_result"
    }
   ],
   "source": [
    "sorted(np.array([X_train.columns, treeC.feature_importances_]).T, key= lambda t: t[1])"
   ]
  },
  {
   "cell_type": "code",
   "execution_count": 12,
   "metadata": {},
   "outputs": [],
   "source": [
    "param_grid = {'criterion': ['gini', 'entropy'],\n",
    "                'max_depth': [None] + list(np.linspace(2,30,2).astype(int)),\n",
    "                'min_samples_split': np.linspace(2,82,10).astype(int),\n",
    "                'min_samples_leaf': np.linspace(2,82,10).astype(int)\n",
    "}\n",
    "\n",
    "gs = GridSearchCV(RandomForestClassifier(), param_grid=param_grid, cv=5, n_jobs=-1, scoring='accuracy')\n",
    "#gs.fit(X_train, y_train)"
   ]
  },
  {
   "cell_type": "code",
   "execution_count": 13,
   "metadata": {},
   "outputs": [
    {
     "name": "stdout",
     "output_type": "stream",
     "text": [
      "[[1713  250]\n",
      " [ 296  849]]\n",
      "0.8243243243243243\n",
      "0.9917142627302711\n"
     ]
    }
   ],
   "source": [
    "#RanFor = gs.best_estimator_\n",
    "RanFor = RandomForestClassifier(criterion = 'entropy', max_depth=30, random_state=42)\n",
    "RanFor.fit(X_train, y_train)\n",
    "y_pred_RanFor = RanFor.predict(X_test)\n",
    "print(confusion_matrix(y_test, y_pred_RanFor))\n",
    "print(accuracy_score(y_test, y_pred_RanFor))\n",
    "y_pred_RanFor_train = RanFor.predict(X_train)\n",
    "print(accuracy_score(y_train, y_pred_RanFor_train))"
   ]
  }
 ],
 "metadata": {
  "kernelspec": {
   "display_name": "Python 3.9.8 ('.venv': venv)",
   "language": "python",
   "name": "python3"
  },
  "language_info": {
   "codemirror_mode": {
    "name": "ipython",
    "version": 3
   },
   "file_extension": ".py",
   "mimetype": "text/x-python",
   "name": "python",
   "nbconvert_exporter": "python",
   "pygments_lexer": "ipython3",
   "version": "3.9.8"
  },
  "vscode": {
   "interpreter": {
    "hash": "a51162323a5dd8886ba2d77c64b26031bc3d2b8d69434f89012130b6fbb66ac7"
   }
  }
 },
 "nbformat": 4,
 "nbformat_minor": 4
}
