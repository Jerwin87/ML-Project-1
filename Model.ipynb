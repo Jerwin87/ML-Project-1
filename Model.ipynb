{
 "cells": [
  {
   "cell_type": "code",
   "execution_count": 3,
   "metadata": {},
   "outputs": [],
   "source": [
    "import pandas as pd\n",
    "import numpy as np\n",
    "import math\n",
    "import seaborn as sns\n",
    "import matplotlib.pyplot as plt\n",
    "\n",
    "from sklearn.model_selection import train_test_split, GridSearchCV\n",
    "from sklearn.linear_model import LinearRegression, LogisticRegression\n",
    "from sklearn.tree import plot_tree\n",
    "from sklearn.metrics import r2_score, mean_squared_error, confusion_matrix, accuracy_score, precision_score, recall_score\n",
    "from sklearn.ensemble import RandomForestRegressor, ExtraTreesRegressor"
   ]
  },
  {
   "cell_type": "code",
   "execution_count": 4,
   "metadata": {},
   "outputs": [],
   "source": [
    "data_raw=pd.read_csv(\"./data/Train.csv\")\n",
    "meta=pd.read_csv(\"./data/airqo_metadata.csv\")"
   ]
  },
  {
   "cell_type": "code",
   "execution_count": 5,
   "metadata": {},
   "outputs": [],
   "source": [
    "from files.preprocessing import preprocessing"
   ]
  },
  {
   "cell_type": "code",
   "execution_count": 6,
   "metadata": {},
   "outputs": [
    {
     "name": "stderr",
     "output_type": "stream",
     "text": [
      "/Users/denniseickhorn/neuefische/ML-Project-1/files/preprocessing.py:48: FutureWarning: In a future version of pandas all arguments of DataFrame.drop except for the argument 'labels' will be keyword-only\n",
      "  data.drop(features,1,inplace=True)\n"
     ]
    }
   ],
   "source": [
    "data = preprocessing(data_raw, use_location=False, only_means=False)"
   ]
  },
  {
   "cell_type": "code",
   "execution_count": 7,
   "metadata": {},
   "outputs": [],
   "source": [
    "X = data.drop('target', axis=1)\n",
    "y = data['target']\n",
    "\n",
    "X_train, X_test, y_train, y_test = train_test_split(X, y, test_size=0.20, random_state=42)"
   ]
  },
  {
   "cell_type": "code",
   "execution_count": 8,
   "metadata": {},
   "outputs": [],
   "source": [
    "#param_grid = {'criterion': ['gini', 'entropy'],\n",
    "#                'max_depth': [None] + list(np.linspace(2,32,10).astype(int)),\n",
    "#                'min_samples_split': np.linspace(2,22,10).astype(int),\n",
    "#                'min_samples_leaf': np.linspace(2,22,10).astype(int)\n",
    "#}\n",
    "#param_grid = {'depth': [4,5,6,7,8,9, 10],\n",
    "#                'learning_rate': [0.01,0.02,0.03,0.04],\n",
    "#                'iterations': [10, 20,30,40,50,60,70,80,90, 100]\n",
    "#                 }\n",
    "param_grid = {\n",
    "    'n_estimators': [50,100,200,300,400,500],\n",
    "    'max_depth': [40,50,60],\n",
    "    'max_features': ['sqrt','log2']\n",
    "}\n",
    "\n",
    "\n",
    "gs = GridSearchCV(ExtraTreesRegressor(random_state=42), verbose=2, param_grid=param_grid, cv=5, n_jobs=-1)\n",
    "#gs.fit(X_train, y_train)\n",
    "#gs.best_params_"
   ]
  },
  {
   "cell_type": "code",
   "execution_count": 9,
   "metadata": {},
   "outputs": [
    {
     "name": "stdout",
     "output_type": "stream",
     "text": [
      "24.555889117676173\n",
      "6.035853589337779\n"
     ]
    }
   ],
   "source": [
    "#reg = LinearRegression()\n",
    "#reg = DecisionTreeRegressor()\n",
    "#reg = RandomForestRegressor()\n",
    "reg = ExtraTreesRegressor(n_estimators=400, max_depth=50, max_features= 'log2', random_state=42)\n",
    "#reg = gs.best_estimator_\n",
    "#reg = XGBRegressor()\n",
    "reg.fit(X_train, y_train)\n",
    "y_pred_reg = reg.predict(X_test)\n",
    "print(mean_squared_error(y_test, y_pred_reg, squared=False))\n",
    "y_pred_reg_train = reg.predict(X_train)\n",
    "print(mean_squared_error(y_train, y_pred_reg_train, squared=False))"
   ]
  },
  {
   "cell_type": "code",
   "execution_count": 10,
   "metadata": {},
   "outputs": [
    {
     "data": {
      "text/plain": [
       "<matplotlib.collections.PathCollection at 0x16b56cf70>"
      ]
     },
     "execution_count": 10,
     "metadata": {},
     "output_type": "execute_result"
    },
    {
     "data": {
      "image/png": "[encoded data removed]",
      "text/plain": [
       "<Figure size 432x288 with 1 Axes>"
      ]
     },
     "metadata": {
      "needs_background": "light"
     },
     "output_type": "display_data"
    }
   ],
   "source": [
    "plt.scatter(x=range(len(y_test)),y= y_test-y_pred_reg)"
   ]
  },
  {
   "cell_type": "code",
   "execution_count": 11,
   "metadata": {},
   "outputs": [
    {
     "name": "stdout",
     "output_type": "stream",
     "text": [
      "[[1622  362]\n",
      " [ 146  978]]\n",
      "0.8365508365508365\n",
      "recall:  0.8701067615658363\n",
      "precision:  0.7298507462686568\n"
     ]
    }
   ],
   "source": [
    "y_pred_C = (y_pred_reg>56).astype(int)\n",
    "y_test_C = (y_test>56).astype(int)\n",
    "print(confusion_matrix(y_test_C, y_pred_C))\n",
    "print(accuracy_score(y_test_C, y_pred_C))\n",
    "print('recall: ', recall_score(y_test_C, y_pred_C))\n",
    "print('precision: ', precision_score(y_test_C, y_pred_C))"
   ]
  },
  {
   "cell_type": "code",
   "execution_count": 12,
   "metadata": {},
   "outputs": [
    {
     "data": {
      "text/plain": [
       "<AxesSubplot:>"
      ]
     },
     "execution_count": 12,
     "metadata": {},
     "output_type": "execute_result"
    },
    {
     "data": {
      "image/png": "[encoded data removed]",
      "text/plain": [
       "<Figure size 432x288 with 2 Axes>"
      ]
     },
     "metadata": {
      "needs_background": "light"
     },
     "output_type": "display_data"
    }
   ],
   "source": [
    "sns.heatmap(confusion_matrix(y_test_C, y_pred_C), annot=True, fmt='d', cmap=\"YlGnBu\")"
   ]
  },
  {
   "cell_type": "code",
   "execution_count": 13,
   "metadata": {},
   "outputs": [
    {
     "data": {
      "text/plain": [
       "[array(['min_precip', 0.0], dtype=object),\n",
       " array(['median_precip', 0.0], dtype=object),\n",
       " array(['last_precip', 0.008356736463400133], dtype=object),\n",
       " array(['min_wind_dir', 0.011365400559894767], dtype=object),\n",
       " array(['max_wind_dir', 0.011846711452602028], dtype=object),\n",
       " array(['max_temp', 0.012011500279155329], dtype=object),\n",
       " array(['min_rel_humidity', 0.012048556483581075], dtype=object),\n",
       " array(['ptp_precip', 0.012257574821332643], dtype=object),\n",
       " array(['max_precip', 0.012364289180464314], dtype=object),\n",
       " array(['ptp_temp', 0.012431579048914294], dtype=object),\n",
       " array(['ptp_wind_dir', 0.01270228640655014], dtype=object),\n",
       " array(['ptp_rel_humidity', 0.012761701136975476], dtype=object),\n",
       " array(['min_wind_spd', 0.013508629953470798], dtype=object),\n",
       " array(['ptp_atmos_press', 0.013897865414892914], dtype=object),\n",
       " array(['max_rel_humidity', 0.014949799626754544], dtype=object),\n",
       " array(['mean_last_day_precip', 0.015007290873426008], dtype=object),\n",
       " array(['min_temp', 0.016758026674426156], dtype=object),\n",
       " array(['mean_precip', 0.017998788427560388], dtype=object),\n",
       " array(['var_precip', 0.01821895781120351], dtype=object),\n",
       " array(['median_temp', 0.01999753433686519], dtype=object),\n",
       " array(['max_wind_spd', 0.020083599755560216], dtype=object),\n",
       " array(['ptp_wind_spd', 0.021091577401125813], dtype=object),\n",
       " array(['median_rel_humidity', 0.021495522284434725], dtype=object),\n",
       " array(['max_atmos_press', 0.022778756391179444], dtype=object),\n",
       " array(['last_wind_dir', 0.022817019001076286], dtype=object),\n",
       " array(['mean_last_day_rel_humidity', 0.023479575037397893], dtype=object),\n",
       " array(['mean_last_day_temp', 0.023591361683649056], dtype=object),\n",
       " array(['mean_last_day_wind_dir', 0.02367838039401513], dtype=object),\n",
       " array(['var_atmos_press', 0.02382121114692005], dtype=object),\n",
       " array(['var_temp', 0.024161198484856768], dtype=object),\n",
       " array(['median_wind_dir', 0.024559510248211312], dtype=object),\n",
       " array(['mean_rel_humidity', 0.02489490560812022], dtype=object),\n",
       " array(['var_rel_humidity', 0.024908211003843064], dtype=object),\n",
       " array(['mean_temp', 0.024908410593260266], dtype=object),\n",
       " array(['var_wind_dir', 0.02637995640219455], dtype=object),\n",
       " array(['mean_wind_dir', 0.026636164906635937], dtype=object),\n",
       " array(['last_rel_humidity', 0.02674343840173485], dtype=object),\n",
       " array(['mean_last_day_wind_spd', 0.027466941174403327], dtype=object),\n",
       " array(['var_wind_spd', 0.027542038622761018], dtype=object),\n",
       " array(['min_atmos_press', 0.02775084604098903], dtype=object),\n",
       " array(['median_wind_spd', 0.02911240577766114], dtype=object),\n",
       " array(['mean_wind_spd', 0.030675609148778208], dtype=object),\n",
       " array(['last_wind_spd', 0.030793628002750997], dtype=object),\n",
       " array(['last_atmos_press', 0.032855374325647016], dtype=object),\n",
       " array(['last_temp', 0.033355472698894176], dtype=object),\n",
       " array(['median_atmos_press', 0.03460549333504554], dtype=object),\n",
       " array(['mean_atmos_press', 0.03535753867782855], dtype=object),\n",
       " array(['mean_last_day_atmos_press', 0.03597262449955569], dtype=object)]"
      ]
     },
     "execution_count": 13,
     "metadata": {},
     "output_type": "execute_result"
    }
   ],
   "source": [
    "sorted(np.array([X_train.columns, reg.feature_importances_]).T, key= lambda t: t[1])"
   ]
  }
 ],
 "metadata": {
  "kernelspec": {
   "display_name": "Python 3.9.8 ('.venv': venv)",
   "language": "python",
   "name": "python3"
  },
  "language_info": {
   "codemirror_mode": {
    "name": "ipython",
    "version": 3
   },
   "file_extension": ".py",
   "mimetype": "text/x-python",
   "name": "python",
   "nbconvert_exporter": "python",
   "pygments_lexer": "ipython3",
   "version": "3.9.8"
  },
  "vscode": {
   "interpreter": {
    "hash": "a51162323a5dd8886ba2d77c64b26031bc3d2b8d69434f89012130b6fbb66ac7"
   }
  }
 },
 "nbformat": 4,
 "nbformat_minor": 4
}
